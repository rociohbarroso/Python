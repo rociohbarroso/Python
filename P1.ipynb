{
  "nbformat": 4,
  "nbformat_minor": 0,
  "metadata": {
    "colab": {
      "provenance": [],
      "authorship_tag": "ABX9TyMnYljuMPuMQn0reHkbYBh0",
      "include_colab_link": true
    },
    "kernelspec": {
      "name": "python3",
      "display_name": "Python 3"
    },
    "language_info": {
      "name": "python"
    }
  },
  "cells": [
    {
      "cell_type": "markdown",
      "metadata": {
        "id": "view-in-github",
        "colab_type": "text"
      },
      "source": [
        "<a href=\"https://colab.research.google.com/github/rociohbarroso/Python/blob/main/P1.ipynb\" target=\"_parent\"><img src=\"https://colab.research.google.com/assets/colab-badge.svg\" alt=\"Open In Colab\"/></a>"
      ]
    },
    {
      "cell_type": "code",
      "execution_count": 6,
      "metadata": {
        "id": "ON7K5Ve9BuUQ"
      },
      "outputs": [],
      "source": [
        "#pip install tensorflow\n",
        "#pip install keras\n",
        "#pip install imgaug\n",
        "#pip install opencv-python\n",
        "#pip install h5py\n",
        "#pip install tqdm\n",
        "#pip install imutils\n",
        "\n",
        "import argparse\n",
        "import os\n",
        "import numpy as np\n",
        "import json\n",
        "import cv2\n",
        "import copy\n",
        "import imgaug as ia\n",
        "from imgaug import augmenters as iaa\n",
        "from keras.utils import Sequence\n",
        "import xml.etree.ElementTree as ET\n",
        "\n",
        "xml_dir = \"\\\\138.100.58.208\\seabass\\lubinas\\anotaciones\""
      ]
    }
  ]
}