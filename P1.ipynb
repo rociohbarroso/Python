{
  "nbformat": 4,
  "nbformat_minor": 0,
  "metadata": {
    "colab": {
      "provenance": [],
      "authorship_tag": "ABX9TyPm5jBeoXjLZS/q5lsc4li1",
      "include_colab_link": true
    },
    "kernelspec": {
      "name": "python3",
      "display_name": "Python 3"
    },
    "language_info": {
      "name": "python"
    }
  },
  "cells": [
    {
      "cell_type": "markdown",
      "metadata": {
        "id": "view-in-github",
        "colab_type": "text"
      },
      "source": [
        "<a href=\"https://colab.research.google.com/github/rociohbarroso/Python/blob/main/P1.ipynb\" target=\"_parent\"><img src=\"https://colab.research.google.com/assets/colab-badge.svg\" alt=\"Open In Colab\"/></a>"
      ]
    },
    {
      "cell_type": "code",
      "execution_count": 13,
      "metadata": {
        "id": "ON7K5Ve9BuUQ",
        "colab": {
          "base_uri": "https://localhost:8080/"
        },
        "outputId": "514f8675-7898-4f28-dd89-1fd368352be4"
      },
      "outputs": [
        {
          "output_type": "stream",
          "name": "stdout",
          "text": [
            "imagenes 0 labels 1\n"
          ]
        }
      ],
      "source": [
        "#pip install tensorflow\n",
        "#pip install keras\n",
        "#pip install imgaug\n",
        "#pip install opencv-python\n",
        "#pip install h5py\n",
        "#pip install tqdm\n",
        "#pip install imutils\n",
        "\n",
        "import argparse\n",
        "import os\n",
        "import numpy as np\n",
        "import json\n",
        "import cv2\n",
        "import copy\n",
        "import imgaug as ia\n",
        "from imgaug import augmenters as iaa\n",
        "from keras.utils import Sequence\n",
        "import xml.etree.ElementTree as ET\n",
        "\n",
        "xml_dir = \"/anotaciones/\"\n",
        "img_dir = \"/imagenes/\"\n",
        "labels =[\"lubinas\"]\n",
        "\n",
        "def leer_anotaciones(ann_dir, img_dir, labels=[]) :\n",
        "    all_imgs = []\n",
        "    seen_labels = {}\n",
        "    for ann in [x for x in sorted(os.listdir(ann_dir)) if x.endswith('.xml')] :\n",
        "      img = {'object':[]}\n",
        "      tree = ET.parse(ann_dir + ann)\n",
        "      for elem in tree.iter():\n",
        "        if 'filename' in elem.tag:\n",
        "          img['filename']= img_dir + elem.text\n",
        "        if 'width' in elem.tag:\n",
        "          img['width']= int(elem.text)\n",
        "        if 'height' in elem.tag:\n",
        "          img['height'] = int(elem.text)\n",
        "        if 'object' in elem.tag or 'part' in elem.tag:\n",
        "          obj = {}\n",
        "          for attr in list(elem):\n",
        "            if 'name' in attr.tag:\n",
        "              obj['name'] = attr.text\n",
        "              if obj['name'] in seen_labels:\n",
        "                seen_labels[obj['name']] += 1\n",
        "              else:\n",
        "                seen_labels[obj['name']] = 1\n",
        "              if len(labels) > 0 and obj['name'] not in labels:\n",
        "                break\n",
        "              else:\n",
        "                img['object'] += [obj]\n",
        "            if 'bndbox' in attr.tag:\n",
        "              for dim in list(attr):\n",
        "                if 'xmin' in dim.tag:\n",
        "                  obj['xmin'] = int(round(float(dim.text)))\n",
        "                if 'ymin' in dim.tag:\n",
        "                  obj['ymin'] = int(round(float(dim.text)))\n",
        "                if 'xmax' in dim.tag:\n",
        "                  obj['xmax'] = int(round(float(dim.text)))\n",
        "                if 'ymax' in dim.tag:\n",
        "                  obj['ymax'] = int(round(float(dim.text)))\n",
        "      if len(img['object']) > 0:\n",
        "           all_imgs += [img]\n",
        "    return all_imgs, seen_labels\n",
        "\n",
        "train_imgs, train_labels = leer_anotaciones(xml_dir, img_dir, labels)\n",
        "print('imagenes', len(train_imgs), 'labels', len(train_labels))\n",
        "\n",
        "\n",
        "\n"
      ]
    }
  ]
}