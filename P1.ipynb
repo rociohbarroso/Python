{
  "nbformat": 4,
  "nbformat_minor": 0,
  "metadata": {
    "colab": {
      "provenance": [],
      "authorship_tag": "ABX9TyNX2v+UsVavofSmn6hTS7ht",
      "include_colab_link": true
    },
    "kernelspec": {
      "name": "python3",
      "display_name": "Python 3"
    },
    "language_info": {
      "name": "python"
    }
  },
  "cells": [
    {
      "cell_type": "markdown",
      "metadata": {
        "id": "view-in-github",
        "colab_type": "text"
      },
      "source": [
        "<a href=\"https://colab.research.google.com/github/rociohbarroso/Python/blob/main/P1.ipynb\" target=\"_parent\"><img src=\"https://colab.research.google.com/assets/colab-badge.svg\" alt=\"Open In Colab\"/></a>"
      ]
    },
    {
      "cell_type": "code",
      "execution_count": 20,
      "metadata": {
        "id": "ON7K5Ve9BuUQ",
        "colab": {
          "base_uri": "https://localhost:8080/",
          "height": 366
        },
        "outputId": "fc4ec244-16b3-4619-ba87-0df64ca73837"
      },
      "outputs": [
        {
          "output_type": "error",
          "ename": "FileNotFoundError",
          "evalue": "[Errno 2] No such file or directory: 'E:/anotaciones/'",
          "traceback": [
            "\u001b[0;31m---------------------------------------------------------------------------\u001b[0m",
            "\u001b[0;31mFileNotFoundError\u001b[0m                         Traceback (most recent call last)",
            "\u001b[0;32m<ipython-input-20-cc556dc86f4a>\u001b[0m in \u001b[0;36m<cell line: 64>\u001b[0;34m()\u001b[0m\n\u001b[1;32m     62\u001b[0m     \u001b[0;32mreturn\u001b[0m \u001b[0mall_imgs\u001b[0m\u001b[0;34m,\u001b[0m \u001b[0mseen_labels\u001b[0m\u001b[0;34m\u001b[0m\u001b[0;34m\u001b[0m\u001b[0m\n\u001b[1;32m     63\u001b[0m \u001b[0;34m\u001b[0m\u001b[0m\n\u001b[0;32m---> 64\u001b[0;31m \u001b[0mtrain_imgs\u001b[0m\u001b[0;34m,\u001b[0m \u001b[0mtrain_labels\u001b[0m \u001b[0;34m=\u001b[0m \u001b[0mleer_anotaciones\u001b[0m\u001b[0;34m(\u001b[0m\u001b[0mxml_dir\u001b[0m\u001b[0;34m,\u001b[0m \u001b[0mimg_dir\u001b[0m\u001b[0;34m,\u001b[0m \u001b[0mlabels\u001b[0m\u001b[0;34m)\u001b[0m\u001b[0;34m\u001b[0m\u001b[0;34m\u001b[0m\u001b[0m\n\u001b[0m\u001b[1;32m     65\u001b[0m \u001b[0mprint\u001b[0m\u001b[0;34m(\u001b[0m\u001b[0;34m'imagenes'\u001b[0m\u001b[0;34m,\u001b[0m \u001b[0mlen\u001b[0m\u001b[0;34m(\u001b[0m\u001b[0mtrain_imgs\u001b[0m\u001b[0;34m)\u001b[0m\u001b[0;34m,\u001b[0m \u001b[0;34m'labels'\u001b[0m\u001b[0;34m,\u001b[0m \u001b[0mlen\u001b[0m\u001b[0;34m(\u001b[0m\u001b[0mtrain_labels\u001b[0m\u001b[0;34m)\u001b[0m\u001b[0;34m)\u001b[0m\u001b[0;34m\u001b[0m\u001b[0;34m\u001b[0m\u001b[0m\n\u001b[1;32m     66\u001b[0m \u001b[0;34m\u001b[0m\u001b[0m\n",
            "\u001b[0;32m<ipython-input-20-cc556dc86f4a>\u001b[0m in \u001b[0;36mleer_anotaciones\u001b[0;34m(ann_dir, img_dir, labels)\u001b[0m\n\u001b[1;32m     25\u001b[0m     \u001b[0mall_imgs\u001b[0m \u001b[0;34m=\u001b[0m \u001b[0;34m[\u001b[0m\u001b[0;34m]\u001b[0m\u001b[0;34m\u001b[0m\u001b[0;34m\u001b[0m\u001b[0m\n\u001b[1;32m     26\u001b[0m     \u001b[0mseen_labels\u001b[0m \u001b[0;34m=\u001b[0m \u001b[0;34m{\u001b[0m\u001b[0;34m}\u001b[0m\u001b[0;34m\u001b[0m\u001b[0;34m\u001b[0m\u001b[0m\n\u001b[0;32m---> 27\u001b[0;31m     \u001b[0;32mfor\u001b[0m \u001b[0mann\u001b[0m \u001b[0;32min\u001b[0m \u001b[0;34m[\u001b[0m \u001b[0mx\u001b[0m \u001b[0;32mfor\u001b[0m \u001b[0mx\u001b[0m \u001b[0;32min\u001b[0m \u001b[0msorted\u001b[0m\u001b[0;34m(\u001b[0m\u001b[0mos\u001b[0m\u001b[0;34m.\u001b[0m\u001b[0mlistdir\u001b[0m\u001b[0;34m(\u001b[0m\u001b[0mann_dir\u001b[0m\u001b[0;34m)\u001b[0m\u001b[0;34m)\u001b[0m \u001b[0;32mif\u001b[0m \u001b[0mx\u001b[0m\u001b[0;34m.\u001b[0m\u001b[0mendswith\u001b[0m\u001b[0;34m(\u001b[0m\u001b[0;34m'.xml'\u001b[0m\u001b[0;34m)\u001b[0m\u001b[0;34m]\u001b[0m \u001b[0;34m:\u001b[0m\u001b[0;34m\u001b[0m\u001b[0;34m\u001b[0m\u001b[0m\n\u001b[0m\u001b[1;32m     28\u001b[0m       \u001b[0mimg\u001b[0m \u001b[0;34m=\u001b[0m \u001b[0;34m{\u001b[0m\u001b[0;34m'object'\u001b[0m\u001b[0;34m:\u001b[0m\u001b[0;34m[\u001b[0m\u001b[0;34m]\u001b[0m\u001b[0;34m}\u001b[0m\u001b[0;34m\u001b[0m\u001b[0;34m\u001b[0m\u001b[0m\n\u001b[1;32m     29\u001b[0m       \u001b[0mtree\u001b[0m \u001b[0;34m=\u001b[0m \u001b[0mET\u001b[0m\u001b[0;34m.\u001b[0m\u001b[0mparse\u001b[0m\u001b[0;34m(\u001b[0m\u001b[0mann_dir\u001b[0m \u001b[0;34m+\u001b[0m \u001b[0mann\u001b[0m\u001b[0;34m)\u001b[0m\u001b[0;34m\u001b[0m\u001b[0;34m\u001b[0m\u001b[0m\n",
            "\u001b[0;31mFileNotFoundError\u001b[0m: [Errno 2] No such file or directory: 'E:/anotaciones/'"
          ]
        }
      ],
      "source": [
        "#pip install tensorflow\n",
        "#pip install keras\n",
        "#pip install imgaug\n",
        "#pip install opencv-python\n",
        "#pip install h5py\n",
        "#pip install tqdm\n",
        "#pip install imutils\n",
        "\n",
        "import argparse\n",
        "import os\n",
        "import numpy as np\n",
        "import json\n",
        "import cv2\n",
        "import copy\n",
        "import imgaug as ia\n",
        "from imgaug import augmenters as iaa\n",
        "from keras.utils import Sequence\n",
        "import xml.etree.ElementTree as ET\n",
        "\n",
        "xml_dir = \"E:/anotaciones/\"\n",
        "img_dir = \"E:/imagenes/\"\n",
        "labels =[\"lubinas\"]\n",
        "\n",
        "def leer_anotaciones(ann_dir, img_dir, labels=[]) :\n",
        "    all_imgs = []\n",
        "    seen_labels = {}\n",
        "    for ann in [ x for x in sorted(os.listdir(ann_dir)) if x.endswith('.xml')] :\n",
        "      img = {'object':[]}\n",
        "      tree = ET.parse(ann_dir + ann)\n",
        "      for elem in tree.iter():\n",
        "        if 'filename' in elem.tag:\n",
        "          img['filename']= img_dir + elem.text\n",
        "        if 'width' in elem.tag:\n",
        "          img['width']= int(elem.text)\n",
        "        if 'height' in elem.tag:\n",
        "          img['height'] = int(elem.text)\n",
        "        if 'object' in elem.tag or 'part' in elem.tag:\n",
        "          obj = {}\n",
        "          for attr in list(elem):\n",
        "            if 'name' in attr.tag:\n",
        "              obj['name'] = attr.text\n",
        "              if obj['name'] in seen_labels:\n",
        "                seen_labels[obj['name']] += 1\n",
        "              else:\n",
        "                seen_labels[obj['name']] = 1\n",
        "              if len(labels) > 0 and obj['name'] not in labels:\n",
        "                break\n",
        "              else:\n",
        "                img['object'] += [obj]\n",
        "            if 'bndbox' in attr.tag:\n",
        "              for dim in list(attr):\n",
        "                if 'xmin' in dim.tag:\n",
        "                  obj['xmin'] = int(round(float(dim.text)))\n",
        "                if 'ymin' in dim.tag:\n",
        "                  obj['ymin'] = int(round(float(dim.text)))\n",
        "                if 'xmax' in dim.tag:\n",
        "                  obj['xmax'] = int(round(float(dim.text)))\n",
        "                if 'ymax' in dim.tag:\n",
        "                  obj['ymax'] = int(round(float(dim.text)))\n",
        "    if len(img['object']) > 0:\n",
        "           all_imgs += [img]\n",
        "    return all_imgs, seen_labels\n",
        "\n",
        "train_imgs, train_labels = leer_anotaciones(xml_dir, img_dir, labels)\n",
        "print('imagenes', len(train_imgs), 'labels', len(train_labels))\n",
        "\n",
        "\n",
        "\n"
      ]
    }
  ]
}